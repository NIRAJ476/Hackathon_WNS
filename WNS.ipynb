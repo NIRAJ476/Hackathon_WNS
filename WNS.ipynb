{
 "cells": [
  {
   "cell_type": "code",
   "execution_count": 2,
   "metadata": {},
   "outputs": [],
   "source": [
    "import pandas as pd\n",
    "import numpy as np\n",
    "import matplotlib.pyplot as plt\n",
    "\n",
    "from sklearn.model_selection import train_test_split, RandomizedSearchCV, GridSearchCV\n",
    "from sklearn.feature_selection import RFE, RFECV\n",
    "from sklearn.naive_bayes import BernoulliNB, GaussianNB, MultinomialNB\n",
    "from sklearn.metrics import confusion_matrix, roc_curve, roc_auc_score, f1_score\n",
    "from sklearn.ensemble import AdaBoostClassifier, RandomForestClassifier, GradientBoostingClassifier, ExtraTreesClassifier\n",
    "from statsmodels.stats.outliers_influence import variance_inflation_factor"
   ]
  },
  {
   "cell_type": "code",
   "execution_count": 3,
   "metadata": {},
   "outputs": [],
   "source": [
    "from sklearn.linear_model import LogisticRegression\n",
    "from sklearn.neighbors import KNeighborsClassifier\n",
    "from sklearn.tree import DecisionTreeClassifier\n",
    "from sklearn.preprocessing import StandardScaler\n",
    "from sklearn.decomposition import PCA"
   ]
  },
  {
   "cell_type": "code",
   "execution_count": 4,
   "metadata": {},
   "outputs": [],
   "source": [
    "cols1=['impression_time','user_id','app_code','os_version','is_4G','is_click']\n",
    "cols2=['device_type','user_id','item_id']\n",
    "cols3=['impression_time','user_id','app_code','os_version','is_4G']"
   ]
  },
  {
   "cell_type": "code",
   "execution_count": 5,
   "metadata": {},
   "outputs": [],
   "source": [
    "train=pd.read_csv(r'C:\\Users\\Niraj\\Desktop\\Ana Hackathon\\WNS\\Train\\train.csv' )"
   ]
  },
  {
   "cell_type": "code",
   "execution_count": 6,
   "metadata": {},
   "outputs": [],
   "source": [
    "View_log=pd.read_csv(r'C:\\Users\\Niraj\\Desktop\\Ana Hackathon\\WNS\\Train\\view_log.csv')"
   ]
  },
  {
   "cell_type": "code",
   "execution_count": 7,
   "metadata": {},
   "outputs": [],
   "source": [
    "item_data=pd.read_csv(r'C:\\Users\\Niraj\\Desktop\\Ana Hackathon\\WNS\\Train\\item_data.csv')"
   ]
  },
  {
   "cell_type": "code",
   "execution_count": 8,
   "metadata": {},
   "outputs": [],
   "source": [
    "test=pd.read_csv(r'C:\\Users\\Niraj\\Desktop\\Ana Hackathon\\WNS\\Test\\test.csv')"
   ]
  },
  {
   "cell_type": "code",
   "execution_count": 9,
   "metadata": {},
   "outputs": [
    {
     "data": {
      "text/html": [
       "<div>\n",
       "<style scoped>\n",
       "    .dataframe tbody tr th:only-of-type {\n",
       "        vertical-align: middle;\n",
       "    }\n",
       "\n",
       "    .dataframe tbody tr th {\n",
       "        vertical-align: top;\n",
       "    }\n",
       "\n",
       "    .dataframe thead th {\n",
       "        text-align: right;\n",
       "    }\n",
       "</style>\n",
       "<table border=\"1\" class=\"dataframe\">\n",
       "  <thead>\n",
       "    <tr style=\"text-align: right;\">\n",
       "      <th></th>\n",
       "      <th>impression_id</th>\n",
       "      <th>impression_time</th>\n",
       "      <th>user_id</th>\n",
       "      <th>app_code</th>\n",
       "      <th>os_version</th>\n",
       "      <th>is_4G</th>\n",
       "      <th>is_click</th>\n",
       "    </tr>\n",
       "  </thead>\n",
       "  <tbody>\n",
       "    <tr>\n",
       "      <th>6890</th>\n",
       "      <td>ec5c931cc3eb9fcc8a46b364c0f69e51</td>\n",
       "      <td>2018-11-16 22:54:00</td>\n",
       "      <td>13946</td>\n",
       "      <td>207</td>\n",
       "      <td>old</td>\n",
       "      <td>1</td>\n",
       "      <td>0</td>\n",
       "    </tr>\n",
       "    <tr>\n",
       "      <th>43690</th>\n",
       "      <td>9d63220a4075c63116682c1c51048a64</td>\n",
       "      <td>2018-11-23 15:37:00</td>\n",
       "      <td>80619</td>\n",
       "      <td>386</td>\n",
       "      <td>latest</td>\n",
       "      <td>1</td>\n",
       "      <td>0</td>\n",
       "    </tr>\n",
       "    <tr>\n",
       "      <th>72838</th>\n",
       "      <td>2a59997ba5ba15483d2ac0f8e5009d2a</td>\n",
       "      <td>2018-11-21 22:27:00</td>\n",
       "      <td>58506</td>\n",
       "      <td>409</td>\n",
       "      <td>latest</td>\n",
       "      <td>1</td>\n",
       "      <td>0</td>\n",
       "    </tr>\n",
       "    <tr>\n",
       "      <th>76719</th>\n",
       "      <td>54d35266ad22814ef605d764c305cd46</td>\n",
       "      <td>2018-11-27 16:31:00</td>\n",
       "      <td>53431</td>\n",
       "      <td>386</td>\n",
       "      <td>old</td>\n",
       "      <td>0</td>\n",
       "      <td>0</td>\n",
       "    </tr>\n",
       "    <tr>\n",
       "      <th>46774</th>\n",
       "      <td>13d29e6e8cf1bcf427da3e7bd696a73f</td>\n",
       "      <td>2018-11-19 16:19:00</td>\n",
       "      <td>36267</td>\n",
       "      <td>244</td>\n",
       "      <td>old</td>\n",
       "      <td>0</td>\n",
       "      <td>0</td>\n",
       "    </tr>\n",
       "    <tr>\n",
       "      <th>105688</th>\n",
       "      <td>17df7bcb4dc3cd1953798284a544e0e4</td>\n",
       "      <td>2018-11-30 09:50:00</td>\n",
       "      <td>42722</td>\n",
       "      <td>465</td>\n",
       "      <td>old</td>\n",
       "      <td>0</td>\n",
       "      <td>0</td>\n",
       "    </tr>\n",
       "    <tr>\n",
       "      <th>93805</th>\n",
       "      <td>5615e21075a0d5ba1af059faf59e4c88</td>\n",
       "      <td>2018-11-29 02:15:00</td>\n",
       "      <td>77617</td>\n",
       "      <td>385</td>\n",
       "      <td>intermediate</td>\n",
       "      <td>0</td>\n",
       "      <td>0</td>\n",
       "    </tr>\n",
       "    <tr>\n",
       "      <th>98144</th>\n",
       "      <td>60cffc4164b276ee0ebfcf7a98bcd7e2</td>\n",
       "      <td>2018-11-29 16:26:00</td>\n",
       "      <td>63904</td>\n",
       "      <td>242</td>\n",
       "      <td>intermediate</td>\n",
       "      <td>0</td>\n",
       "      <td>0</td>\n",
       "    </tr>\n",
       "    <tr>\n",
       "      <th>194749</th>\n",
       "      <td>fb9a5783a6d3142d64dff352ca5b2e21</td>\n",
       "      <td>2018-12-05 03:07:00</td>\n",
       "      <td>65496</td>\n",
       "      <td>386</td>\n",
       "      <td>latest</td>\n",
       "      <td>0</td>\n",
       "      <td>0</td>\n",
       "    </tr>\n",
       "    <tr>\n",
       "      <th>160741</th>\n",
       "      <td>6d0ed68d68188d8275fc2f5108299d54</td>\n",
       "      <td>2018-12-01 20:31:00</td>\n",
       "      <td>61898</td>\n",
       "      <td>190</td>\n",
       "      <td>old</td>\n",
       "      <td>1</td>\n",
       "      <td>0</td>\n",
       "    </tr>\n",
       "  </tbody>\n",
       "</table>\n",
       "</div>"
      ],
      "text/plain": [
       "                           impression_id      impression_time  user_id  \\\n",
       "6890    ec5c931cc3eb9fcc8a46b364c0f69e51  2018-11-16 22:54:00    13946   \n",
       "43690   9d63220a4075c63116682c1c51048a64  2018-11-23 15:37:00    80619   \n",
       "72838   2a59997ba5ba15483d2ac0f8e5009d2a  2018-11-21 22:27:00    58506   \n",
       "76719   54d35266ad22814ef605d764c305cd46  2018-11-27 16:31:00    53431   \n",
       "46774   13d29e6e8cf1bcf427da3e7bd696a73f  2018-11-19 16:19:00    36267   \n",
       "105688  17df7bcb4dc3cd1953798284a544e0e4  2018-11-30 09:50:00    42722   \n",
       "93805   5615e21075a0d5ba1af059faf59e4c88  2018-11-29 02:15:00    77617   \n",
       "98144   60cffc4164b276ee0ebfcf7a98bcd7e2  2018-11-29 16:26:00    63904   \n",
       "194749  fb9a5783a6d3142d64dff352ca5b2e21  2018-12-05 03:07:00    65496   \n",
       "160741  6d0ed68d68188d8275fc2f5108299d54  2018-12-01 20:31:00    61898   \n",
       "\n",
       "        app_code    os_version  is_4G  is_click  \n",
       "6890         207           old      1         0  \n",
       "43690        386        latest      1         0  \n",
       "72838        409        latest      1         0  \n",
       "76719        386           old      0         0  \n",
       "46774        244           old      0         0  \n",
       "105688       465           old      0         0  \n",
       "93805        385  intermediate      0         0  \n",
       "98144        242  intermediate      0         0  \n",
       "194749       386        latest      0         0  \n",
       "160741       190           old      1         0  "
      ]
     },
     "execution_count": 9,
     "metadata": {},
     "output_type": "execute_result"
    }
   ],
   "source": [
    "train.sample(n=10)"
   ]
  },
  {
   "cell_type": "code",
   "execution_count": 10,
   "metadata": {},
   "outputs": [],
   "source": [
    "train['impression_time']=pd.to_datetime(train['impression_time'])\n",
    "test['impression_time']=pd.to_datetime(test['impression_time'])"
   ]
  },
  {
   "cell_type": "code",
   "execution_count": 11,
   "metadata": {},
   "outputs": [],
   "source": [
    "train['impression_time_hour']=train.impression_time.dt.hour\n",
    "test['impression_time_hour']=test.impression_time.dt.hour"
   ]
  },
  {
   "cell_type": "code",
   "execution_count": 13,
   "metadata": {},
   "outputs": [],
   "source": [
    "train['impression_time_day']=train.impression_time.dt.dayofweek\n",
    "test['impression_time_day']=test.impression_time.dt.dayofweek"
   ]
  },
  {
   "cell_type": "code",
   "execution_count": 14,
   "metadata": {},
   "outputs": [
    {
     "name": "stdout",
     "output_type": "stream",
     "text": [
      "Index(['impression_id', 'impression_time', 'user_id', 'app_code', 'os_version',\n",
      "       'is_4G', 'is_click', 'impression_time_hour', 'impression_time_day'],\n",
      "      dtype='object')\n",
      "Index(['impression_id', 'impression_time', 'user_id', 'app_code', 'os_version',\n",
      "       'is_4G', 'impression_time_hour', 'impression_time_day'],\n",
      "      dtype='object')\n"
     ]
    }
   ],
   "source": [
    "print(train.columns)\n",
    "print(test.columns)"
   ]
  },
  {
   "cell_type": "code",
   "execution_count": 15,
   "metadata": {},
   "outputs": [
    {
     "data": {
      "text/html": [
       "<div>\n",
       "<style scoped>\n",
       "    .dataframe tbody tr th:only-of-type {\n",
       "        vertical-align: middle;\n",
       "    }\n",
       "\n",
       "    .dataframe tbody tr th {\n",
       "        vertical-align: top;\n",
       "    }\n",
       "\n",
       "    .dataframe thead th {\n",
       "        text-align: right;\n",
       "    }\n",
       "</style>\n",
       "<table border=\"1\" class=\"dataframe\">\n",
       "  <thead>\n",
       "    <tr style=\"text-align: right;\">\n",
       "      <th></th>\n",
       "      <th>impression_id</th>\n",
       "      <th>impression_time</th>\n",
       "      <th>user_id</th>\n",
       "      <th>app_code</th>\n",
       "      <th>os_version</th>\n",
       "      <th>is_4G</th>\n",
       "      <th>is_click</th>\n",
       "      <th>impression_time_hour</th>\n",
       "      <th>impression_time_day</th>\n",
       "    </tr>\n",
       "  </thead>\n",
       "  <tbody>\n",
       "    <tr>\n",
       "      <th>0</th>\n",
       "      <td>c4ca4238a0b923820dcc509a6f75849b</td>\n",
       "      <td>2018-11-15 00:00:00</td>\n",
       "      <td>87862</td>\n",
       "      <td>422</td>\n",
       "      <td>old</td>\n",
       "      <td>0</td>\n",
       "      <td>0</td>\n",
       "      <td>0</td>\n",
       "      <td>3</td>\n",
       "    </tr>\n",
       "    <tr>\n",
       "      <th>1</th>\n",
       "      <td>45c48cce2e2d7fbdea1afc51c7c6ad26</td>\n",
       "      <td>2018-11-15 00:01:00</td>\n",
       "      <td>63410</td>\n",
       "      <td>467</td>\n",
       "      <td>latest</td>\n",
       "      <td>1</td>\n",
       "      <td>1</td>\n",
       "      <td>0</td>\n",
       "      <td>3</td>\n",
       "    </tr>\n",
       "    <tr>\n",
       "      <th>2</th>\n",
       "      <td>70efdf2ec9b086079795c442636b55fb</td>\n",
       "      <td>2018-11-15 00:02:00</td>\n",
       "      <td>71748</td>\n",
       "      <td>259</td>\n",
       "      <td>intermediate</td>\n",
       "      <td>1</td>\n",
       "      <td>0</td>\n",
       "      <td>0</td>\n",
       "      <td>3</td>\n",
       "    </tr>\n",
       "    <tr>\n",
       "      <th>3</th>\n",
       "      <td>8e296a067a37563370ded05f5a3bf3ec</td>\n",
       "      <td>2018-11-15 00:02:00</td>\n",
       "      <td>69209</td>\n",
       "      <td>244</td>\n",
       "      <td>latest</td>\n",
       "      <td>1</td>\n",
       "      <td>0</td>\n",
       "      <td>0</td>\n",
       "      <td>3</td>\n",
       "    </tr>\n",
       "    <tr>\n",
       "      <th>4</th>\n",
       "      <td>182be0c5cdcd5072bb1864cdee4d3d6e</td>\n",
       "      <td>2018-11-15 00:02:00</td>\n",
       "      <td>62873</td>\n",
       "      <td>473</td>\n",
       "      <td>latest</td>\n",
       "      <td>0</td>\n",
       "      <td>0</td>\n",
       "      <td>0</td>\n",
       "      <td>3</td>\n",
       "    </tr>\n",
       "  </tbody>\n",
       "</table>\n",
       "</div>"
      ],
      "text/plain": [
       "                      impression_id     impression_time  user_id  app_code  \\\n",
       "0  c4ca4238a0b923820dcc509a6f75849b 2018-11-15 00:00:00    87862       422   \n",
       "1  45c48cce2e2d7fbdea1afc51c7c6ad26 2018-11-15 00:01:00    63410       467   \n",
       "2  70efdf2ec9b086079795c442636b55fb 2018-11-15 00:02:00    71748       259   \n",
       "3  8e296a067a37563370ded05f5a3bf3ec 2018-11-15 00:02:00    69209       244   \n",
       "4  182be0c5cdcd5072bb1864cdee4d3d6e 2018-11-15 00:02:00    62873       473   \n",
       "\n",
       "     os_version  is_4G  is_click  impression_time_hour  impression_time_day  \n",
       "0           old      0         0                     0                    3  \n",
       "1        latest      1         1                     0                    3  \n",
       "2  intermediate      1         0                     0                    3  \n",
       "3        latest      1         0                     0                    3  \n",
       "4        latest      0         0                     0                    3  "
      ]
     },
     "execution_count": 15,
     "metadata": {},
     "output_type": "execute_result"
    }
   ],
   "source": [
    "train.head()"
   ]
  },
  {
   "cell_type": "code",
   "execution_count": 16,
   "metadata": {},
   "outputs": [],
   "source": [
    "def convert_os(ver):\n",
    "    if ver=='latest':\n",
    "        return 1\n",
    "    elif ver=='intermediate':\n",
    "        return 2\n",
    "    else:\n",
    "        return 3"
   ]
  },
  {
   "cell_type": "code",
   "execution_count": 17,
   "metadata": {},
   "outputs": [],
   "source": [
    "train['os_version']=train['os_version'].apply(convert_os)"
   ]
  },
  {
   "cell_type": "code",
   "execution_count": 18,
   "metadata": {},
   "outputs": [],
   "source": [
    "test['os_version']=test['os_version'].apply(convert_os)"
   ]
  },
  {
   "cell_type": "code",
   "execution_count": 19,
   "metadata": {},
   "outputs": [
    {
     "data": {
      "text/html": [
       "<div>\n",
       "<style scoped>\n",
       "    .dataframe tbody tr th:only-of-type {\n",
       "        vertical-align: middle;\n",
       "    }\n",
       "\n",
       "    .dataframe tbody tr th {\n",
       "        vertical-align: top;\n",
       "    }\n",
       "\n",
       "    .dataframe thead th {\n",
       "        text-align: right;\n",
       "    }\n",
       "</style>\n",
       "<table border=\"1\" class=\"dataframe\">\n",
       "  <thead>\n",
       "    <tr style=\"text-align: right;\">\n",
       "      <th></th>\n",
       "      <th>impression_id</th>\n",
       "      <th>impression_time</th>\n",
       "      <th>user_id</th>\n",
       "      <th>app_code</th>\n",
       "      <th>os_version</th>\n",
       "      <th>is_4G</th>\n",
       "      <th>impression_time_hour</th>\n",
       "      <th>impression_time_day</th>\n",
       "    </tr>\n",
       "  </thead>\n",
       "  <tbody>\n",
       "    <tr>\n",
       "      <th>24562</th>\n",
       "      <td>77e3bc45edb244685fb1ad1e19e50ce6</td>\n",
       "      <td>2018-12-15 16:02:00</td>\n",
       "      <td>7651</td>\n",
       "      <td>386</td>\n",
       "      <td>1</td>\n",
       "      <td>1</td>\n",
       "      <td>16</td>\n",
       "      <td>5</td>\n",
       "    </tr>\n",
       "    <tr>\n",
       "      <th>84744</th>\n",
       "      <td>631d4c1a11469f7c2850d3996301b2f1</td>\n",
       "      <td>2018-12-18 11:53:00</td>\n",
       "      <td>42270</td>\n",
       "      <td>386</td>\n",
       "      <td>2</td>\n",
       "      <td>1</td>\n",
       "      <td>11</td>\n",
       "      <td>1</td>\n",
       "    </tr>\n",
       "    <tr>\n",
       "      <th>76930</th>\n",
       "      <td>808d2f7f8a16b5600b2060c1820e81a4</td>\n",
       "      <td>2018-12-17 20:16:00</td>\n",
       "      <td>17782</td>\n",
       "      <td>202</td>\n",
       "      <td>1</td>\n",
       "      <td>0</td>\n",
       "      <td>20</td>\n",
       "      <td>0</td>\n",
       "    </tr>\n",
       "    <tr>\n",
       "      <th>57034</th>\n",
       "      <td>e7a2df72656b9b925762b75fec328361</td>\n",
       "      <td>2018-12-16 00:06:00</td>\n",
       "      <td>31297</td>\n",
       "      <td>381</td>\n",
       "      <td>3</td>\n",
       "      <td>0</td>\n",
       "      <td>0</td>\n",
       "      <td>6</td>\n",
       "    </tr>\n",
       "    <tr>\n",
       "      <th>90226</th>\n",
       "      <td>bb4fc4b52d4e6822dc84f9e07123b9ee</td>\n",
       "      <td>2018-12-18 18:16:00</td>\n",
       "      <td>7370</td>\n",
       "      <td>514</td>\n",
       "      <td>1</td>\n",
       "      <td>0</td>\n",
       "      <td>18</td>\n",
       "      <td>1</td>\n",
       "    </tr>\n",
       "    <tr>\n",
       "      <th>32863</th>\n",
       "      <td>2ef9f51d8e7a2e639ad361c8071407ea</td>\n",
       "      <td>2018-12-14 11:00:00</td>\n",
       "      <td>52082</td>\n",
       "      <td>385</td>\n",
       "      <td>3</td>\n",
       "      <td>0</td>\n",
       "      <td>11</td>\n",
       "      <td>4</td>\n",
       "    </tr>\n",
       "    <tr>\n",
       "      <th>64038</th>\n",
       "      <td>6debc93e59bbb200ab487aa2953edebe</td>\n",
       "      <td>2018-12-17 00:45:00</td>\n",
       "      <td>47408</td>\n",
       "      <td>32</td>\n",
       "      <td>2</td>\n",
       "      <td>0</td>\n",
       "      <td>0</td>\n",
       "      <td>0</td>\n",
       "    </tr>\n",
       "    <tr>\n",
       "      <th>77805</th>\n",
       "      <td>e9f25479c9c234e8703bcc95cd1abf49</td>\n",
       "      <td>2018-12-18 12:49:00</td>\n",
       "      <td>53389</td>\n",
       "      <td>463</td>\n",
       "      <td>2</td>\n",
       "      <td>0</td>\n",
       "      <td>12</td>\n",
       "      <td>1</td>\n",
       "    </tr>\n",
       "    <tr>\n",
       "      <th>4804</th>\n",
       "      <td>21cd27c4765b3c36c29df276791fb729</td>\n",
       "      <td>2018-12-13 09:21:00</td>\n",
       "      <td>46357</td>\n",
       "      <td>207</td>\n",
       "      <td>2</td>\n",
       "      <td>0</td>\n",
       "      <td>9</td>\n",
       "      <td>3</td>\n",
       "    </tr>\n",
       "    <tr>\n",
       "      <th>60207</th>\n",
       "      <td>bab5cd71381b17cee89bdfa1e8b0a69f</td>\n",
       "      <td>2018-12-16 13:40:00</td>\n",
       "      <td>25677</td>\n",
       "      <td>44</td>\n",
       "      <td>3</td>\n",
       "      <td>0</td>\n",
       "      <td>13</td>\n",
       "      <td>6</td>\n",
       "    </tr>\n",
       "  </tbody>\n",
       "</table>\n",
       "</div>"
      ],
      "text/plain": [
       "                          impression_id     impression_time  user_id  \\\n",
       "24562  77e3bc45edb244685fb1ad1e19e50ce6 2018-12-15 16:02:00     7651   \n",
       "84744  631d4c1a11469f7c2850d3996301b2f1 2018-12-18 11:53:00    42270   \n",
       "76930  808d2f7f8a16b5600b2060c1820e81a4 2018-12-17 20:16:00    17782   \n",
       "57034  e7a2df72656b9b925762b75fec328361 2018-12-16 00:06:00    31297   \n",
       "90226  bb4fc4b52d4e6822dc84f9e07123b9ee 2018-12-18 18:16:00     7370   \n",
       "32863  2ef9f51d8e7a2e639ad361c8071407ea 2018-12-14 11:00:00    52082   \n",
       "64038  6debc93e59bbb200ab487aa2953edebe 2018-12-17 00:45:00    47408   \n",
       "77805  e9f25479c9c234e8703bcc95cd1abf49 2018-12-18 12:49:00    53389   \n",
       "4804   21cd27c4765b3c36c29df276791fb729 2018-12-13 09:21:00    46357   \n",
       "60207  bab5cd71381b17cee89bdfa1e8b0a69f 2018-12-16 13:40:00    25677   \n",
       "\n",
       "       app_code  os_version  is_4G  impression_time_hour  impression_time_day  \n",
       "24562       386           1      1                    16                    5  \n",
       "84744       386           2      1                    11                    1  \n",
       "76930       202           1      0                    20                    0  \n",
       "57034       381           3      0                     0                    6  \n",
       "90226       514           1      0                    18                    1  \n",
       "32863       385           3      0                    11                    4  \n",
       "64038        32           2      0                     0                    0  \n",
       "77805       463           2      0                    12                    1  \n",
       "4804        207           2      0                     9                    3  \n",
       "60207        44           3      0                    13                    6  "
      ]
     },
     "execution_count": 19,
     "metadata": {},
     "output_type": "execute_result"
    }
   ],
   "source": [
    "test.sample(n=10)"
   ]
  },
  {
   "cell_type": "code",
   "execution_count": 20,
   "metadata": {},
   "outputs": [
    {
     "data": {
      "text/plain": [
       "server_time    object\n",
       "device_type    object\n",
       "session_id      int64\n",
       "user_id         int64\n",
       "item_id         int64\n",
       "dtype: object"
      ]
     },
     "execution_count": 20,
     "metadata": {},
     "output_type": "execute_result"
    }
   ],
   "source": [
    "View_log.dtypes"
   ]
  },
  {
   "cell_type": "code",
   "execution_count": 21,
   "metadata": {},
   "outputs": [],
   "source": [
    "View_log['server_time']=pd.to_datetime(View_log['server_time'])"
   ]
  },
  {
   "cell_type": "code",
   "execution_count": 22,
   "metadata": {},
   "outputs": [],
   "source": [
    "View_log['server_time_day']=View_log.server_time.dt.day"
   ]
  },
  {
   "cell_type": "code",
   "execution_count": 23,
   "metadata": {},
   "outputs": [],
   "source": [
    "View_log['server_time_dayofweek']=View_log.server_time.dt.dayofweek"
   ]
  },
  {
   "cell_type": "code",
   "execution_count": 24,
   "metadata": {},
   "outputs": [],
   "source": [
    "visit_on_day=View_log.groupby(['user_id','server_time_dayofweek']).item_id.count().reset_index()"
   ]
  },
  {
   "cell_type": "code",
   "execution_count": 25,
   "metadata": {},
   "outputs": [],
   "source": [
    "visit_in_month=View_log.groupby('user_id').item_id.count().reset_index()"
   ]
  },
  {
   "cell_type": "code",
   "execution_count": 34,
   "metadata": {},
   "outputs": [],
   "source": [
    "new_df=View_log[['user_id','device_type']]"
   ]
  },
  {
   "cell_type": "code",
   "execution_count": 35,
   "metadata": {},
   "outputs": [
    {
     "data": {
      "text/plain": [
       "(3118622, 2)"
      ]
     },
     "execution_count": 35,
     "metadata": {},
     "output_type": "execute_result"
    }
   ],
   "source": [
    "new_df.shape"
   ]
  },
  {
   "cell_type": "code",
   "execution_count": 36,
   "metadata": {},
   "outputs": [
    {
     "name": "stderr",
     "output_type": "stream",
     "text": [
      "C:\\ProgramData\\Anaconda3\\lib\\site-packages\\ipykernel_launcher.py:1: SettingWithCopyWarning: \n",
      "A value is trying to be set on a copy of a slice from a DataFrame\n",
      "\n",
      "See the caveats in the documentation: http://pandas.pydata.org/pandas-docs/stable/indexing.html#indexing-view-versus-copy\n",
      "  \"\"\"Entry point for launching an IPython kernel.\n"
     ]
    }
   ],
   "source": [
    "new_df.drop_duplicates(inplace=True)"
   ]
  },
  {
   "cell_type": "code",
   "execution_count": 37,
   "metadata": {},
   "outputs": [
    {
     "data": {
      "text/plain": [
       "android    89154\n",
       "iphone        61\n",
       "web           24\n",
       "Name: device_type, dtype: int64"
      ]
     },
     "execution_count": 37,
     "metadata": {},
     "output_type": "execute_result"
    }
   ],
   "source": [
    "new_df['device_type'].value_counts()"
   ]
  },
  {
   "cell_type": "code",
   "execution_count": 39,
   "metadata": {},
   "outputs": [],
   "source": [
    "def convert_device(ver):\n",
    "    if ver=='android':\n",
    "        return 1\n",
    "    elif ver=='iphone':\n",
    "        return 2\n",
    "    else:\n",
    "        return 3"
   ]
  },
  {
   "cell_type": "code",
   "execution_count": 40,
   "metadata": {},
   "outputs": [
    {
     "name": "stderr",
     "output_type": "stream",
     "text": [
      "C:\\ProgramData\\Anaconda3\\lib\\site-packages\\ipykernel_launcher.py:1: SettingWithCopyWarning: \n",
      "A value is trying to be set on a copy of a slice from a DataFrame.\n",
      "Try using .loc[row_indexer,col_indexer] = value instead\n",
      "\n",
      "See the caveats in the documentation: http://pandas.pydata.org/pandas-docs/stable/indexing.html#indexing-view-versus-copy\n",
      "  \"\"\"Entry point for launching an IPython kernel.\n"
     ]
    }
   ],
   "source": [
    "new_df['device_type']=new_df.device_type.apply(convert_device)"
   ]
  },
  {
   "cell_type": "code",
   "execution_count": 41,
   "metadata": {},
   "outputs": [
    {
     "data": {
      "text/plain": [
       "1    89154\n",
       "2       61\n",
       "3       24\n",
       "Name: device_type, dtype: int64"
      ]
     },
     "execution_count": 41,
     "metadata": {},
     "output_type": "execute_result"
    }
   ],
   "source": [
    "new_df['device_type'].value_counts()"
   ]
  },
  {
   "cell_type": "code",
   "execution_count": 42,
   "metadata": {},
   "outputs": [
    {
     "name": "stdout",
     "output_type": "stream",
     "text": [
      "user_id    int64\n",
      "item_id    int64\n",
      "dtype: object\n",
      "user_id                  int64\n",
      "server_time_dayofweek    int64\n",
      "item_id                  int64\n",
      "dtype: object\n",
      "user_id        int64\n",
      "device_type    int64\n",
      "dtype: object\n"
     ]
    }
   ],
   "source": [
    "print(visit_in_month.dtypes)\n",
    "print(visit_on_day.dtypes)\n",
    "print(new_df.dtypes)"
   ]
  },
  {
   "cell_type": "code",
   "execution_count": 43,
   "metadata": {},
   "outputs": [],
   "source": [
    "df1=pd.merge(new_df, visit_in_month, how='inner', on=['user_id'])"
   ]
  },
  {
   "cell_type": "code",
   "execution_count": 44,
   "metadata": {},
   "outputs": [],
   "source": [
    "df1.rename(columns={\"item_id\":'item_count'} ,inplace=True)"
   ]
  },
  {
   "cell_type": "code",
   "execution_count": 45,
   "metadata": {},
   "outputs": [],
   "source": [
    "visit_on_day.rename(columns={\"server_time_dayofweek\":'impression_time_day',\"item_id\":'visit_count'}, inplace=True)"
   ]
  },
  {
   "cell_type": "code",
   "execution_count": 46,
   "metadata": {},
   "outputs": [],
   "source": [
    "train1=pd.merge(train, df1, how='left', on='user_id')\n",
    "test1=pd.merge(test, df1, how='left', on='user_id')"
   ]
  },
  {
   "cell_type": "code",
   "execution_count": 47,
   "metadata": {},
   "outputs": [],
   "source": [
    "train2=pd.merge(train1, visit_on_day, how='left', on=['user_id','impression_time_day'])\n",
    "test2=pd.merge(test1, visit_on_day, how='left', on=['user_id','impression_time_day'])"
   ]
  },
  {
   "cell_type": "code",
   "execution_count": 48,
   "metadata": {},
   "outputs": [],
   "source": [
    "train2.fillna(value=0, inplace=True)\n",
    "test2.fillna(value=0, inplace=True)"
   ]
  },
  {
   "cell_type": "code",
   "execution_count": 49,
   "metadata": {},
   "outputs": [
    {
     "data": {
      "text/plain": [
       "Index(['item_id', 'item_price', 'category_1', 'category_2', 'category_3',\n",
       "       'product_type'],\n",
       "      dtype='object')"
      ]
     },
     "execution_count": 49,
     "metadata": {},
     "output_type": "execute_result"
    }
   ],
   "source": [
    "item_data.columns"
   ]
  },
  {
   "cell_type": "code",
   "execution_count": 50,
   "metadata": {},
   "outputs": [],
   "source": [
    "view1=pd.merge(View_log, item_data, how='left', on='item_id')"
   ]
  },
  {
   "cell_type": "code",
   "execution_count": 51,
   "metadata": {},
   "outputs": [],
   "source": [
    "category1=view1.groupby(['user_id','category_1']).category_2.count().reset_index()\n",
    "category2=view1.groupby(['user_id','category_2']).category_3.count().reset_index()\n",
    "category3=view1.groupby(['user_id','category_3']).product_type.count().reset_index()"
   ]
  },
  {
   "cell_type": "code",
   "execution_count": 52,
   "metadata": {},
   "outputs": [],
   "source": [
    "category4=category1.groupby('user_id').max().reset_index()\n",
    "category5=category2.groupby('user_id').max().reset_index()\n",
    "category6=category3.groupby('user_id').max().reset_index()"
   ]
  },
  {
   "cell_type": "code",
   "execution_count": 53,
   "metadata": {},
   "outputs": [
    {
     "name": "stdout",
     "output_type": "stream",
     "text": [
      "   user_id  category_1  category_2\n",
      "0        0        17.0           9\n",
      "1        1        15.0           2\n",
      "2        2        17.0          31\n",
      "3        3        14.0           3\n",
      "4        4        14.0           1\n",
      "   user_id  category_2  category_3\n",
      "0        0        79.0           6\n",
      "1        1        78.0           2\n",
      "2        2        78.0          11\n",
      "3        3        62.0           3\n",
      "4        4        61.0           1\n",
      "   user_id  category_3  product_type\n",
      "0        0       308.0             6\n",
      "1        1       277.0             2\n",
      "2        2       336.0             7\n",
      "3        3       157.0             3\n",
      "4        4       159.0             1\n"
     ]
    }
   ],
   "source": [
    "print(category4.head())\n",
    "print(category5.head())\n",
    "print(category6.head())"
   ]
  },
  {
   "cell_type": "code",
   "execution_count": 54,
   "metadata": {},
   "outputs": [],
   "source": [
    "category4.rename(columns={\"category_2\":'count1'}, inplace=True)\n",
    "category5.rename(columns={\"category_3\":'count2'}, inplace=True)\n",
    "category6.rename(columns={\"product_type\":'count3'}, inplace=True)"
   ]
  },
  {
   "cell_type": "code",
   "execution_count": 55,
   "metadata": {},
   "outputs": [],
   "source": [
    "category=category4.merge(category5, on='user_id').merge(category6, on='user_id')"
   ]
  },
  {
   "cell_type": "code",
   "execution_count": null,
   "metadata": {},
   "outputs": [],
   "source": []
  },
  {
   "cell_type": "code",
   "execution_count": 56,
   "metadata": {},
   "outputs": [],
   "source": [
    "train3=pd.merge(train2, category, how='left', on='user_id')\n",
    "test3=pd.merge(test2, category, how='left', on='user_id')"
   ]
  },
  {
   "cell_type": "code",
   "execution_count": 57,
   "metadata": {},
   "outputs": [],
   "source": [
    "train3.fillna(value=0, inplace=True)\n",
    "test3.fillna(value=0, inplace=True)"
   ]
  },
  {
   "cell_type": "code",
   "execution_count": 58,
   "metadata": {},
   "outputs": [],
   "source": [
    "train3=train3.astype({\"visit_count\":np.int64, \"category_1\":np.int64, \"count1\":np.int64, \"category_2\":np.int64, \"count2\":np.int64,\n",
    "              \"category_3\":np.int64, \"count3\":np.int64}, inplace=True)"
   ]
  },
  {
   "cell_type": "code",
   "execution_count": 59,
   "metadata": {},
   "outputs": [
    {
     "data": {
      "text/plain": [
       "Index(['impression_id', 'impression_time', 'user_id', 'app_code', 'os_version',\n",
       "       'is_4G', 'is_click', 'impression_time_hour', 'impression_time_day',\n",
       "       'device_type', 'item_count', 'visit_count', 'category_1', 'count1',\n",
       "       'category_2', 'count2', 'category_3', 'count3'],\n",
       "      dtype='object')"
      ]
     },
     "execution_count": 59,
     "metadata": {},
     "output_type": "execute_result"
    }
   ],
   "source": [
    "train3.columns"
   ]
  },
  {
   "cell_type": "code",
   "execution_count": 60,
   "metadata": {},
   "outputs": [],
   "source": [
    "col1=['app_code','user_id','impression_time_hour','impression_time_day','os_version','device_type','item_count','visit_count',\n",
    "     'category_1','count1','category_2','count2','category_3','count3','is_4G','is_click']\n",
    "col2=['app_code','user_id','impression_time_hour','impression_time_day','os_version','device_type','item_count','visit_count',\n",
    "     'category_1','count1','category_2','count2','category_3','count3','is_4G']"
   ]
  },
  {
   "cell_type": "code",
   "execution_count": 61,
   "metadata": {},
   "outputs": [],
   "source": [
    "train_final=train3[col1]\n",
    "test_final=test3[col2]"
   ]
  },
  {
   "cell_type": "code",
   "execution_count": 62,
   "metadata": {},
   "outputs": [
    {
     "data": {
      "text/html": [
       "<div>\n",
       "<style scoped>\n",
       "    .dataframe tbody tr th:only-of-type {\n",
       "        vertical-align: middle;\n",
       "    }\n",
       "\n",
       "    .dataframe tbody tr th {\n",
       "        vertical-align: top;\n",
       "    }\n",
       "\n",
       "    .dataframe thead th {\n",
       "        text-align: right;\n",
       "    }\n",
       "</style>\n",
       "<table border=\"1\" class=\"dataframe\">\n",
       "  <thead>\n",
       "    <tr style=\"text-align: right;\">\n",
       "      <th></th>\n",
       "      <th>vif_factor</th>\n",
       "      <th>feature</th>\n",
       "    </tr>\n",
       "  </thead>\n",
       "  <tbody>\n",
       "    <tr>\n",
       "      <th>0</th>\n",
       "      <td>4.379664</td>\n",
       "      <td>app_code</td>\n",
       "    </tr>\n",
       "    <tr>\n",
       "      <th>1</th>\n",
       "      <td>3.983091</td>\n",
       "      <td>user_id</td>\n",
       "    </tr>\n",
       "    <tr>\n",
       "      <th>2</th>\n",
       "      <td>4.499692</td>\n",
       "      <td>impression_time_hour</td>\n",
       "    </tr>\n",
       "    <tr>\n",
       "      <th>3</th>\n",
       "      <td>3.007309</td>\n",
       "      <td>impression_time_day</td>\n",
       "    </tr>\n",
       "    <tr>\n",
       "      <th>4</th>\n",
       "      <td>5.282415</td>\n",
       "      <td>os_version</td>\n",
       "    </tr>\n",
       "    <tr>\n",
       "      <th>5</th>\n",
       "      <td>51.340109</td>\n",
       "      <td>device_type</td>\n",
       "    </tr>\n",
       "    <tr>\n",
       "      <th>6</th>\n",
       "      <td>15.648422</td>\n",
       "      <td>item_count</td>\n",
       "    </tr>\n",
       "    <tr>\n",
       "      <th>7</th>\n",
       "      <td>3.610307</td>\n",
       "      <td>visit_count</td>\n",
       "    </tr>\n",
       "    <tr>\n",
       "      <th>8</th>\n",
       "      <td>43.271036</td>\n",
       "      <td>category_1</td>\n",
       "    </tr>\n",
       "    <tr>\n",
       "      <th>9</th>\n",
       "      <td>32.740039</td>\n",
       "      <td>count1</td>\n",
       "    </tr>\n",
       "    <tr>\n",
       "      <th>10</th>\n",
       "      <td>44.322623</td>\n",
       "      <td>category_2</td>\n",
       "    </tr>\n",
       "    <tr>\n",
       "      <th>11</th>\n",
       "      <td>50.286903</td>\n",
       "      <td>count2</td>\n",
       "    </tr>\n",
       "    <tr>\n",
       "      <th>12</th>\n",
       "      <td>46.375002</td>\n",
       "      <td>category_3</td>\n",
       "    </tr>\n",
       "    <tr>\n",
       "      <th>13</th>\n",
       "      <td>32.871474</td>\n",
       "      <td>count3</td>\n",
       "    </tr>\n",
       "    <tr>\n",
       "      <th>14</th>\n",
       "      <td>1.598713</td>\n",
       "      <td>is_4G</td>\n",
       "    </tr>\n",
       "    <tr>\n",
       "      <th>15</th>\n",
       "      <td>1.053187</td>\n",
       "      <td>is_click</td>\n",
       "    </tr>\n",
       "  </tbody>\n",
       "</table>\n",
       "</div>"
      ],
      "text/plain": [
       "    vif_factor               feature\n",
       "0     4.379664              app_code\n",
       "1     3.983091               user_id\n",
       "2     4.499692  impression_time_hour\n",
       "3     3.007309   impression_time_day\n",
       "4     5.282415            os_version\n",
       "5    51.340109           device_type\n",
       "6    15.648422            item_count\n",
       "7     3.610307           visit_count\n",
       "8    43.271036            category_1\n",
       "9    32.740039                count1\n",
       "10   44.322623            category_2\n",
       "11   50.286903                count2\n",
       "12   46.375002            category_3\n",
       "13   32.871474                count3\n",
       "14    1.598713                 is_4G\n",
       "15    1.053187              is_click"
      ]
     },
     "execution_count": 62,
     "metadata": {},
     "output_type": "execute_result"
    }
   ],
   "source": [
    "vif=pd.DataFrame()\n",
    "vif['vif_factor']=[variance_inflation_factor(train_final.values, i) for i in range(train_final.shape[1])]\n",
    "vif['feature']=train_final.columns\n",
    "vif"
   ]
  },
  {
   "cell_type": "code",
   "execution_count": 87,
   "metadata": {},
   "outputs": [
    {
     "data": {
      "text/plain": [
       "(237892, 16)"
      ]
     },
     "execution_count": 87,
     "metadata": {},
     "output_type": "execute_result"
    }
   ],
   "source": [
    "train_final.shape"
   ]
  },
  {
   "cell_type": "code",
   "execution_count": 76,
   "metadata": {},
   "outputs": [],
   "source": [
    "clicked_on_app=train_final.groupby('app_code').is_click.sum().reset_index()"
   ]
  },
  {
   "cell_type": "code",
   "execution_count": 83,
   "metadata": {},
   "outputs": [],
   "source": [
    "ind=clicked_on_app.query('is_click==0').index\n",
    "clicked_on_app.drop(ind, axis=0,inplace=True)"
   ]
  },
  {
   "cell_type": "code",
   "execution_count": 85,
   "metadata": {},
   "outputs": [],
   "source": [
    "train4=pd.merge(train_final, clicked_on_app, how='right', on='app_code')"
   ]
  },
  {
   "cell_type": "code",
   "execution_count": 89,
   "metadata": {},
   "outputs": [
    {
     "data": {
      "text/plain": [
       "Index(['app_code', 'user_id', 'impression_time_hour', 'impression_time_day',\n",
       "       'os_version', 'device_type', 'item_count', 'visit_count', 'category_1',\n",
       "       'count1', 'category_2', 'count2', 'category_3', 'count3', 'is_4G',\n",
       "       'is_click_x', 'is_click_y'],\n",
       "      dtype='object')"
      ]
     },
     "execution_count": 89,
     "metadata": {},
     "output_type": "execute_result"
    }
   ],
   "source": [
    "train4.columns"
   ]
  },
  {
   "cell_type": "code",
   "execution_count": 90,
   "metadata": {},
   "outputs": [],
   "source": [
    "X=train4[col2]\n",
    "y=train4['is_click_x']\n",
    "xTest=test_final[col2]"
   ]
  },
  {
   "cell_type": "code",
   "execution_count": 109,
   "metadata": {},
   "outputs": [],
   "source": [
    "X_train, X_test, y_train, y_test =train_test_split(X, y, test_size=0.25)"
   ]
  },
  {
   "cell_type": "code",
   "execution_count": 393,
   "metadata": {},
   "outputs": [
    {
     "name": "stdout",
     "output_type": "stream",
     "text": [
      "Top features:  11\n",
      "0.9911836743844545\n",
      "0.12155278412085016\n",
      "['app_code' 'impression_time_hour' 'impression_time_day' 'os_version'\n",
      " 'item_count' 'count1' 'category_2' 'count2' 'category_3' 'count3' 'is_4G'] \n",
      "\n",
      "Top features:  12\n",
      "0.9911892791686984\n",
      "0.11423487544483987\n",
      "['app_code' 'impression_time_hour' 'impression_time_day' 'os_version'\n",
      " 'item_count' 'category_1' 'count1' 'category_2' 'count2' 'category_3'\n",
      " 'count3' 'is_4G'] \n",
      "\n",
      "Top features:  13\n",
      "0.9911892791686984\n",
      "0.11687621746059854\n",
      "['app_code' 'impression_time_hour' 'impression_time_day' 'os_version'\n",
      " 'device_type' 'item_count' 'category_1' 'count1' 'category_2' 'count2'\n",
      " 'category_3' 'count3' 'is_4G'] \n",
      "\n",
      "Top features:  14\n",
      "0.9911892791686984\n",
      "0.11547998583067658\n",
      "['app_code' 'impression_time_hour' 'impression_time_day' 'os_version'\n",
      " 'device_type' 'item_count' 'category_1' 'count1' 'category_2' 'count2'\n",
      " 'category_3' 'count3' 'is_4G'] \n",
      "\n",
      "Top features:  15\n",
      "0.9911892791686984\n",
      "0.11663991439272338\n",
      "['app_code' 'impression_time_hour' 'impression_time_day' 'os_version'\n",
      " 'device_type' 'item_count' 'category_1' 'count1' 'category_2' 'count2'\n",
      " 'category_3' 'count3' 'is_4G'] \n",
      "\n"
     ]
    }
   ],
   "source": [
    "features = [11,12,13,14,15]\n",
    "for n in features:\n",
    "    model = DecisionTreeClassifier()\n",
    "    rfe = RFE(model, n_features_to_select = n)\n",
    "    rfe = rfe.fit(X_train, y_train)\n",
    "    cols = X_train.columns.tolist()\n",
    "    sel_feat = pd.DataFrame({\"cols\": cols, \"support\": rfe.support_, \"rank\": rfe.ranking_})\n",
    "    print(\"Top features: \", n)\n",
    "    print(rfe.score(X_train, y_train))\n",
    "    print(f1_score(y_test, rfe.predict(X_test)))\n",
    "    print(sel_feat[sel_feat['rank'] == 1]['cols'].unique(), '\\n')"
   ]
  },
  {
   "cell_type": "code",
   "execution_count": 110,
   "metadata": {},
   "outputs": [
    {
     "data": {
      "text/plain": [
       "2688"
      ]
     },
     "execution_count": 110,
     "metadata": {},
     "output_type": "execute_result"
    }
   ],
   "source": [
    "y_test.sum()"
   ]
  },
  {
   "cell_type": "code",
   "execution_count": 68,
   "metadata": {},
   "outputs": [],
   "source": [
    "knn=KNeighborsClassifier(n_neighbors=3)\n",
    "knn.fit(X_train, y_train)\n",
    "res=knn.predict(X_test)"
   ]
  },
  {
   "cell_type": "code",
   "execution_count": 99,
   "metadata": {},
   "outputs": [],
   "source": [
    "naiv=DecisionTreeClassifier()\n",
    "naiv.fit(X_train, y_train)\n",
    "nvs=naiv.predict(X_test)"
   ]
  },
  {
   "cell_type": "code",
   "execution_count": 111,
   "metadata": {},
   "outputs": [],
   "source": [
    "nv=GaussianNB()\n",
    "nv.fit(X_train, y_train)\n",
    "res=nv.predict(X_test)"
   ]
  },
  {
   "cell_type": "code",
   "execution_count": 112,
   "metadata": {},
   "outputs": [
    {
     "data": {
      "text/plain": [
       "3652"
      ]
     },
     "execution_count": 112,
     "metadata": {},
     "output_type": "execute_result"
    }
   ],
   "source": [
    "res.sum()"
   ]
  },
  {
   "cell_type": "code",
   "execution_count": 113,
   "metadata": {},
   "outputs": [
    {
     "data": {
      "text/plain": [
       "array([[53040,  3383],\n",
       "       [ 2419,   269]], dtype=int64)"
      ]
     },
     "execution_count": 113,
     "metadata": {},
     "output_type": "execute_result"
    }
   ],
   "source": [
    "confusion_matrix(y_true=y_test, y_pred=res)"
   ]
  },
  {
   "cell_type": "code",
   "execution_count": 114,
   "metadata": {},
   "outputs": [
    {
     "data": {
      "text/plain": [
       "0.5200582930709192"
      ]
     },
     "execution_count": 114,
     "metadata": {},
     "output_type": "execute_result"
    }
   ],
   "source": [
    "roc_auc_score(y_test, res)"
   ]
  },
  {
   "cell_type": "code",
   "execution_count": 328,
   "metadata": {},
   "outputs": [],
   "source": [
    "sample=pd.read_csv(r'C:\\Users\\Niraj\\Desktop\\Ana Hackathon\\WNS\\Results\\sample_submission.csv')"
   ]
  },
  {
   "cell_type": "code",
   "execution_count": 429,
   "metadata": {},
   "outputs": [],
   "source": [
    "sample['is_click']=pd.DataFrame(res, columns=['is_click'])"
   ]
  },
  {
   "cell_type": "code",
   "execution_count": 430,
   "metadata": {},
   "outputs": [],
   "source": [
    "sample.to_csv(r'C:\\Users\\Niraj\\Desktop\\Ana Hackathon\\WNS\\Results\\result7.csv', index=False, header=True)"
   ]
  }
 ],
 "metadata": {
  "kernelspec": {
   "display_name": "Python 3",
   "language": "python",
   "name": "python3"
  },
  "language_info": {
   "codemirror_mode": {
    "name": "ipython",
    "version": 3
   },
   "file_extension": ".py",
   "mimetype": "text/x-python",
   "name": "python",
   "nbconvert_exporter": "python",
   "pygments_lexer": "ipython3",
   "version": "3.7.0"
  }
 },
 "nbformat": 4,
 "nbformat_minor": 2
}
